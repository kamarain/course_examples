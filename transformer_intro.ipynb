{
 "cells": [
  {
   "cell_type": "markdown",
   "id": "69aa7a6d-c26d-4f74-bbb9-2d10a193a6aa",
   "metadata": {},
   "source": [
    "# Time series forecasting using PyTorch Transformer\n",
    "\n",
    "The goal is to predict future sequence values (real numbers) in generative manner. To be more precise, there are known past values $\\mathbf{X} = \\{x_0, x_1, \\ldots , x_N\\}$ (inputs) and the model predicts future values $\\mathbf{Y} = \\{\\hat{x}_{N+1}, \\hat{x}_{N+2}, \\ldots , \\hat{x}_{N+M}\\}$. PyTorch Transformer is adopted since it should be ideal for the task. Transformer is used to generate the new values by iteratively using the known values and already generated samples:\n",
    "\n",
    " * $y_1$ = Transformer($\\mathbf{X},y_0$)\n",
    " * $y_2$ = Transformer($\\mathbf{X},y_0, y_1$)\n",
    " * $y_3$ = Transformer($\\mathbf{X},y_0, y_1, y_2$)\n",
    "\n",
    "New symbol $y_i$ is used instead of $\\hat{x}_{N+j}$ to more explicitly discriminate between the known and generated sequences. The first prediction, $y_0$, is often the *start of sequence* symbol `<SOS>`.\n",
    "\n",
    "**Transformer** Transformer is a neural architecture that is considered as the golden standard for sequence-to-sequence modeling. However, thanks to ChatGPT and other large language models (LLMs) most texts about programming with transformers are related to natural language processing (NLP). Another branch are texts about how to implement Transformer from the scratch. There are less posts about how to use the existing Transformer models for generic real valued data prediction instead of language.\n",
    "\n",
    "In the following, we build the final model step by step starting from *SimplestTransformer* to *TimeSeriesTransformer*. The covered steps add one at time of the essential building blocks:\n",
    "\n",
    " * Tokenization\n",
    " * Embedding and unembedding\n",
    " * Masked attention\n",
    " * Position encoding\n",
    " * Quantized real value embedding\n",
    " * Direct real value prediction\n",
    "\n",
    "For more information about them, check the Transformer Wiki page: https://en.wikipedia.org/wiki/Transformer_(deep_learning_architecture)"
   ]
  },
  {
   "cell_type": "markdown",
   "id": "4539a705-119c-4e71-8946-44fba9329409",
   "metadata": {},
   "source": [
    "## Torch.nn.Transformer\n",
    "\n",
    "It seems that the generic Transformer module of PyTorch is becoming depricated, but since it is used in many example codes it is used as the main module.\n",
    "\n",
    "Fundamental imports are the following and this code is tested on Python 3.12.2 and everything installed through Linux Conda package manager."
   ]
  },
  {
   "cell_type": "code",
   "execution_count": 2,
   "id": "cb6886dc-d8dd-40b6-9570-55f6d10016b5",
   "metadata": {},
   "outputs": [
    {
     "name": "stdout",
     "output_type": "stream",
     "text": [
      "3.12.2\n"
     ]
    }
   ],
   "source": [
    "import torch\n",
    "import torch.nn as nn\n",
    "import torch.optim as optim\n",
    "import torch.optim.lr_scheduler as lr_scheduler\n",
    "\n",
    "import math\n",
    "import numpy as np\n",
    "import numpy.random as random\n",
    "\n",
    "import matplotlib.pyplot as plt\n",
    "\n",
    "import platform\n",
    "\n",
    "print(platform.python_version())"
   ]
  },
  {
   "cell_type": "markdown",
   "id": "70b2353f-7deb-4136-9c19-fb9928a5e120",
   "metadata": {},
   "source": [
    "## SimplestTransformer - As simpe as possible and what we can do with it\n",
    "\n",
    "What can we do with the simplest possible transformer architecture that does not include anything else but the transformer itself.\n",
    "\n",
    "Let's construct a SimplestTransformer class that has [nn.torch.Transformer](https://pytorch.org/docs/stable/generated/torch.nn.Transformer.html) as member.\n",
    "\n",
    "The following model takes a sequence (e.g. [0, 0, 0, 0]) as input, puts it through torch.nn.Transformer gives its outputs directly as output.\n",
    "\n",
    "**Note:** The only additional change to the default parameters is `norm_first = True` since the original plain transformer architecture had difficulty converging, but it was later found that doing normalization *before* multiheaded attention stabilizes learning (no heatup with increasing learning rate needed in the beginning of training)\n"
   ]
  },
  {
   "cell_type": "code",
   "execution_count": 545,
   "id": "0c81cef0-bf48-4398-bd5a-8b0b58fee38f",
   "metadata": {},
   "outputs": [],
   "source": [
    "class SimplestTransformer(nn.Module):\n",
    "    def __init__(\n",
    "        self,\n",
    "        d_model,\n",
    "        nhead,\n",
    "        num_encoder_layers,\n",
    "        num_decoder_layers,\n",
    "        dim_feedforward,\n",
    "        dropout_p,\n",
    "        layer_norm_eps\n",
    "    ):\n",
    "        super().__init__()\n",
    "\n",
    "        # Transformer initialized with user specs\n",
    "        self.transformer = nn.Transformer(\n",
    "            d_model = d_model,\n",
    "            nhead = nhead,\n",
    "            num_encoder_layers = num_encoder_layers,\n",
    "            num_decoder_layers = num_decoder_layers,\n",
    "            dim_feedforward = dim_feedforward,\n",
    "            dropout = dropout_p,\n",
    "            layer_norm_eps = layer_norm_eps,\n",
    "            norm_first = True\n",
    "        )\n",
    "\n",
    "    def forward(\n",
    "        self,\n",
    "        src,\n",
    "        tgt,\n",
    "    ):\n",
    "        # Transformer assumes that src & tgt structure is (seq_length, batch_num, feat_dim)\n",
    "        out = self.transformer(src, tgt)\n",
    "\n",
    "        return out"
   ]
  },
  {
   "cell_type": "markdown",
   "id": "76a77195-7686-4afe-86d0-d0939f274c6f",
   "metadata": {},
   "source": [
    "Let's define SimpleTransformer with sminimal settings. Everything is one, but to make the linear feedforward part to have any meaning, we assign 8 neurons there."
   ]
  },
  {
   "cell_type": "code",
   "execution_count": 546,
   "id": "f2403825-124d-4ca9-abbd-c05bfb0d88a2",
   "metadata": {},
   "outputs": [
    {
     "name": "stdout",
     "output_type": "stream",
     "text": [
      "The model has 88 parameters (88 trainable)\n"
     ]
    }
   ],
   "source": [
    "model = SimplestTransformer(d_model = 1, nhead = 1, num_encoder_layers = 1, num_decoder_layers = 1, dim_feedforward = 8, dropout_p = 0.1, layer_norm_eps = 1e-05)\n",
    "\n",
    "#print(model)\n",
    "print(f'The model has {sum(p.numel() for p in model.parameters())} parameters ({sum(p.numel() for p in model.parameters() if p.requires_grad)} trainable)')"
   ]
  },
  {
   "cell_type": "markdown",
   "id": "219d9f6d-8be9-4db9-a620-9a1941593ab9",
   "metadata": {},
   "source": [
    "**Training data**\n",
    "\n",
    "Let's start with two symbols only:\n",
    "\n",
    " * 0\n",
    " * 1\n",
    "\n",
    "The two symbols can be used in binary sequences. The simplest task is perhaps to continue the sequences. The training data is\n",
    "\n",
    " * X: 0, 0, 0 $\\rightarrow$ Y: 0, 0, 0\n",
    " * X: 1, 1, 1 $\\rightarrow$ Y: 1, 1, 1"
   ]
  },
  {
   "cell_type": "code",
   "execution_count": 547,
   "id": "1a28adb4-aea7-47da-adc1-af24b648f695",
   "metadata": {},
   "outputs": [],
   "source": [
    "def generate_data1(n):\n",
    "    SOS_token = np.array([2])\n",
    "    EOS_token = np.array([3])\n",
    "    length = 3\n",
    "\n",
    "    data = []\n",
    "\n",
    "    for i in range(n // 2):\n",
    "        X = np.ones(length)\n",
    "        y = np.ones(length)\n",
    "        data.append([X, y])\n",
    "\n",
    "    for i in range(n // 2):\n",
    "        X = np.zeros(length)\n",
    "        y = np.zeros(length)\n",
    "        data.append([X, y])\n",
    "\n",
    "    np.random.shuffle(data)\n",
    "\n",
    "    return data"
   ]
  },
  {
   "cell_type": "markdown",
   "id": "53e7a11d-af1e-467a-a0d5-ff551667bb83",
   "metadata": {},
   "source": [
    "Run several times to make sure both types of sequences are generated"
   ]
  },
  {
   "cell_type": "code",
   "execution_count": 548,
   "id": "65e74ca4-1d13-4297-8690-954df893543b",
   "metadata": {},
   "outputs": [
    {
     "name": "stdout",
     "output_type": "stream",
     "text": [
      "[1. 1. 1.]\n",
      "[1. 1. 1.]\n",
      "[0. 0. 0.]\n",
      "[0. 0. 0.]\n",
      "[1. 1. 1.]\n",
      "[1. 1. 1.]\n"
     ]
    }
   ],
   "source": [
    "tr_data = generate_data1(100)\n",
    "\n",
    "print(tr_data[0][0])\n",
    "print(tr_data[0][1])\n",
    "\n",
    "print(tr_data[1][0])\n",
    "print(tr_data[1][1])\n",
    "\n",
    "print(tr_data[2][0])\n",
    "print(tr_data[2][1])"
   ]
  },
  {
   "cell_type": "markdown",
   "id": "fbc2f1c1-9afb-4b26-a4fa-dc45ae563863",
   "metadata": {},
   "source": [
    "Form training matrices of ```Seq len x Num samples x Feat dim```"
   ]
  },
  {
   "cell_type": "code",
   "execution_count": 549,
   "id": "d3f049f7-14e1-4ad8-a9a6-0da5cba7e6f3",
   "metadata": {},
   "outputs": [
    {
     "name": "stdout",
     "output_type": "stream",
     "text": [
      "torch.Size([3, 100, 1])\n",
      "tensor([1., 1., 1.])\n",
      "tensor([1., 1., 1.])\n",
      "tensor([0., 0., 0.])\n",
      "tensor([0., 0., 0.])\n",
      "tensor([1., 1., 1.])\n",
      "tensor([1., 1., 1.])\n"
     ]
    }
   ],
   "source": [
    "X_tr = torch.empty((len(tr_data[0][0]),len(tr_data),1))\n",
    "Y_tr = torch.empty((len(tr_data[0][1]),len(tr_data),1))\n",
    "for ids, s in enumerate(tr_data):\n",
    "    X_tr[:,ids,0] = torch.from_numpy(s[0])\n",
    "    Y_tr[:,ids,0] = torch.from_numpy(s[1])\n",
    "print(X_tr.shape)\n",
    "\n",
    "print(X_tr[:,0,0])\n",
    "print(Y_tr[:,0,0])\n",
    "\n",
    "print(X_tr[:,1,0])\n",
    "print(Y_tr[:,1,0])\n",
    "\n",
    "print(X_tr[:,2,0])\n",
    "print(Y_tr[:,2,0])"
   ]
  },
  {
   "cell_type": "code",
   "execution_count": 550,
   "id": "2fb250fa-8678-49e6-8292-936ceb1e94d8",
   "metadata": {},
   "outputs": [
    {
     "name": "stdout",
     "output_type": "stream",
     "text": [
      "   Epoch 0 training loss 0.5 (lr=0.01)\n",
      "   Epoch 100 training loss 0.2500151991844177 (lr=0.01)\n",
      "   Epoch 200 training loss 0.25 (lr=0.01)\n",
      "   Epoch 300 training loss 0.25 (lr=0.01)\n",
      "   Epoch 400 training loss 0.25 (lr=0.01)\n",
      "   Epoch 500 training loss 0.25 (lr=0.01)\n",
      "   Epoch 600 training loss 0.25 (lr=0.01)\n",
      "   Epoch 700 training loss 0.25 (lr=0.01)\n",
      "   Epoch 800 training loss 0.25 (lr=0.01)\n",
      "   Epoch 900 training loss 0.25 (lr=0.01)\n"
     ]
    }
   ],
   "source": [
    "num_of_epochs = 1000\n",
    "loss_mse = torch.nn.MSELoss()\n",
    "optimizer = torch.optim.Adam(model.parameters(), lr=0.01)\n",
    "scheduler = lr_scheduler.MultiStepLR(optimizer, milestones=[1000], gamma=0.1)\n",
    "model.train()\n",
    "for n in range(num_of_epochs):\n",
    "    running_loss = 0.0\n",
    "    Y_in = Y_tr[:-1,:,:]\n",
    "    Y_out = Y_tr[1:,:,:]\n",
    "    Y_pred = model(X_tr,Y_in)\n",
    "    loss = loss_mse(Y_pred,Y_out)\n",
    "\n",
    "    optimizer.zero_grad()\n",
    "    loss.backward()\n",
    "    optimizer.step()\n",
    "    running_loss += loss.item()\n",
    "    scheduler.step()\n",
    "    if n % 100 == 0:\n",
    "        print(f'   Epoch {n} training loss {running_loss} (lr={optimizer.param_groups[0][\"lr\"]})')"
   ]
  },
  {
   "cell_type": "code",
   "execution_count": 560,
   "id": "a9fde465-b73c-4f01-928c-74b55db0b5bd",
   "metadata": {},
   "outputs": [],
   "source": [
    "def predict(model, input_sequence, max_length=16, SOS_token=2, EOS_token=3, EOS_plus = 2):\n",
    "\n",
    "    model.eval()\n",
    "    \n",
    "    y_input = torch.tensor([SOS_token], dtype=torch.long)\n",
    "\n",
    "    sos_found = False\n",
    "    for _ in range(max_length):\n",
    "        #print(f'X={input_sequence} Y={y_input}')\n",
    "\n",
    "        # Get prediction\n",
    "        pred = model(input_sequence, y_input)\n",
    "\n",
    "        pred_tokens = torch.argmax(pred, dim=1)\n",
    "\n",
    "        y_input = torch.cat((torch.tensor([SOS_token], dtype=torch.long), pred_tokens), dim=0)\n",
    "\n",
    "        if pred_tokens[-1] == EOS_token:\n",
    "            break\n",
    "\n",
    "    return y_input.tolist()"
   ]
  },
  {
   "cell_type": "markdown",
   "id": "3a7fb764-7ac8-43df-be4e-4561000f0d98",
   "metadata": {},
   "source": [
    "Let's test what the model outputs"
   ]
  },
  {
   "cell_type": "code",
   "execution_count": 552,
   "id": "32bc7019-7a16-4727-b1b6-ca222bc96c71",
   "metadata": {},
   "outputs": [
    {
     "name": "stdout",
     "output_type": "stream",
     "text": [
      "tensor([1., 1., 1.])\n",
      "tensor([0.5000, 0.5000], grad_fn=<SelectBackward0>)\n"
     ]
    }
   ],
   "source": [
    "print(X_tr[:,40,0])\n",
    "print(Y_pred[:,40,0])"
   ]
  },
  {
   "cell_type": "markdown",
   "id": "23cc85cb-a1aa-4a4f-85d4-6b6d4c98a527",
   "metadata": {},
   "source": [
    "**Findings:** The Transformer architecture is suitable for providing information about the most likely next token given the input sequence $\\mathbf{X}$ and the current output sequence $\\mathbf{Y}$. However, it the Transformer output itself is used as the next output sequence token, then it cannot do else but provide a single token that minimizes the mean squared error (MSE). In the case of equal amount of '1' and '0' as output it learns to predict 0.5 that is between the two values. You can change the values, e.g., to '0' and '10' to validate this finding.\n",
    "\n",
    "To improve SimplestTransformer we must introduce a mapping from 'tokens' (sequence symbols) to an internal representation that carries out information about the best next token, and then again back to tokens. These two steps are called *embedding* and *unembedding*. They convert every token to a token specific vector (of the length `d_model`) and back. Embedding is a table lookup from 1 to model dimensional vector, but the vector representation can be optimized during training."
   ]
  },
  {
   "cell_type": "markdown",
   "id": "1bd747f9-495c-4eb8-a045-e087f36a8d59",
   "metadata": {},
   "source": [
    "## SimpleTransformer - Add token embedding and un-embedding\n",
    "\n",
    "At first, let's turn from integers to talk about *tokens*. The input and output sequences, $\\textbf{X}$ and $\\textbf{Y}$, are sequences of tokens with unique (integer) Id. Let's use the following tokens next:\n",
    "\n",
    "```\n",
    "Symbol 0 is 0\n",
    "Symbol 1 is 1\n",
    "Symbol <SOS> is 2 // Start of sequence\n",
    "Symbol <EOS> is 3 // End of sequence\n",
    "```\n",
    "\n",
    "The SOS and EOS tokens help the transformer to learn the beginning and end of sequences."
   ]
  },
  {
   "cell_type": "markdown",
   "id": "86160ac4-3f86-4d7c-81cb-ca3bc7650149",
   "metadata": {},
   "source": [
    "Generate tokenized data"
   ]
  },
  {
   "cell_type": "markdown",
   "id": "6f1fa239-b60d-4d1e-9d85-f2c9f2a6725d",
   "metadata": {},
   "source": [
    "We have the following tokens:\n",
    "\n",
    " *       `0` : 0 \n",
    " *       `1` : 1 \n",
    " * `<SOS>` : 2\n",
    " * `<EOS>` : 3\n",
    "\n",
    "Let's try to generate a single output from a sequence input\n",
    "\n",
    " * input: SOS,0,0,0,EOS  output: SOS,0,EOS\n",
    " * input: SOS,1,1,1,EOS  output: SOS,1,EOS\n",
    "\n",
    "or vice versa\n",
    "\n",
    " * SOS,0,EOS -> SOS,0,0,0,EOS\n",
    " * SOS,1,EOS -> SOS,1,1,1,EOS"
   ]
  },
  {
   "cell_type": "code",
   "execution_count": 395,
   "id": "f48d91e2-58a7-460c-aa92-f14c51c9abb6",
   "metadata": {},
   "outputs": [],
   "source": [
    "def generate_data2(n):\n",
    "    SOS_token = np.array([2])\n",
    "    EOS_token = np.array([3])\n",
    "\n",
    "    data = []\n",
    "\n",
    "    # 0,0,0,0 -> 1 \n",
    "    for i in range(n // 2):\n",
    "        X = np.concatenate((SOS_token, [0, 0, 0], EOS_token))\n",
    "        y = np.concatenate((SOS_token, [1], EOS_token))\n",
    "        data.append([X, y])\n",
    "\n",
    "    # 1,1,1,1 -> 0 \n",
    "    for i in range(n // 2):\n",
    "        X = np.concatenate((SOS_token, [1, 1, 1], EOS_token))\n",
    "        y = np.concatenate((SOS_token, [0], EOS_token))\n",
    "        data.append([X, y])\n",
    "\n",
    "    np.random.shuffle(data)\n",
    "\n",
    "    return data"
   ]
  },
  {
   "cell_type": "code",
   "execution_count": 553,
   "id": "126b6ed9-e129-4d7e-a6fd-4ca09cea54f0",
   "metadata": {},
   "outputs": [],
   "source": [
    "def generate_data3(n):\n",
    "    SOS_token = np.array([2])\n",
    "    EOS_token = np.array([3])\n",
    "\n",
    "    data = []\n",
    "\n",
    "    # 1 -> 0,0,0,0 \n",
    "    for i in range(n // 2):\n",
    "        y = np.concatenate((SOS_token, [0, 0, 0, 0], EOS_token))\n",
    "        X = np.concatenate((SOS_token, [1], EOS_token))\n",
    "        data.append([X, y])\n",
    "\n",
    "    # 1 -> 1,1,1,1 \n",
    "    for i in range(n // 2):\n",
    "        y = np.concatenate((SOS_token, [1, 1, 1, 1], EOS_token))\n",
    "        X = np.concatenate((SOS_token, [0], EOS_token))\n",
    "        data.append([X, y])\n",
    "\n",
    "    np.random.shuffle(data)\n",
    "\n",
    "    return data"
   ]
  },
  {
   "cell_type": "code",
   "execution_count": 554,
   "id": "1bfa817a-8a2c-46f4-a564-193875af1d5a",
   "metadata": {},
   "outputs": [
    {
     "name": "stdout",
     "output_type": "stream",
     "text": [
      "[2 1 3]\n",
      "[2 0 0 0 0 3]\n",
      "[2 0 3]\n",
      "[2 1 1 1 1 3]\n",
      "[2 0 3]\n",
      "[2 1 1 1 1 3]\n"
     ]
    }
   ],
   "source": [
    "tr_data = generate_data3(100)\n",
    "\n",
    "print(tr_data[0][0])\n",
    "print(tr_data[0][1])\n",
    "\n",
    "print(tr_data[1][0])\n",
    "print(tr_data[1][1])\n",
    "\n",
    "print(tr_data[2][0])\n",
    "print(tr_data[2][1])"
   ]
  },
  {
   "cell_type": "markdown",
   "id": "2dfa3dc5-aeaa-498f-bf8a-c1a20b73b073",
   "metadata": {},
   "source": [
    "Generate training data tensors. Note that now we do not generate extra dimension (seq len x num samples x 1) for the tokens that are one-dimensional since embedding will add the requested number of dimensions (seq len x num samples x num feats)."
   ]
  },
  {
   "cell_type": "code",
   "execution_count": 555,
   "id": "a8f91756-2dd4-4dbb-850f-fa4f95e78ffb",
   "metadata": {},
   "outputs": [
    {
     "name": "stdout",
     "output_type": "stream",
     "text": [
      "torch.Size([3, 100])\n",
      "tensor([2., 1., 3.])\n",
      "tensor([2., 0., 0., 0., 0., 3.])\n",
      "tensor([2., 0., 3.])\n",
      "tensor([2., 1., 1., 1., 1., 3.])\n",
      "tensor([2., 0., 3.])\n",
      "tensor([2., 1., 1., 1., 1., 3.])\n"
     ]
    }
   ],
   "source": [
    "X_tr = torch.empty((len(tr_data[0][0]),len(tr_data)))\n",
    "Y_tr = torch.empty((len(tr_data[0][1]),len(tr_data)))\n",
    "for ids, s in enumerate(tr_data):\n",
    "    X_tr[:,ids] = torch.from_numpy(s[0])\n",
    "    Y_tr[:,ids] = torch.from_numpy(s[1])\n",
    "print(X_tr.shape)\n",
    "\n",
    "print(X_tr[:,0])\n",
    "print(Y_tr[:,0])\n",
    "\n",
    "print(X_tr[:,1])\n",
    "print(Y_tr[:,1])\n",
    "\n",
    "print(X_tr[:,2])\n",
    "print(Y_tr[:,2])"
   ]
  },
  {
   "cell_type": "markdown",
   "id": "7ce352c8-a925-442d-86b7-30b34994853c",
   "metadata": {},
   "source": [
    "Tokenization does not help as such, but for each token a special *embedding vector* can be generated. Embedding vector may carry more information than a single value.\n",
    "\n",
    "**Note:** Unembedding is actually performed by a linear layer that converts the embedding vector to a vector with the same length as the number of tokens. Now, the next token selection becomes a classification task. We assume that the unembedding vector contains probabilities of each token. By using the *cross-entropy error* as loss function we can optimize this mapping. Note that [torch.nn.CrossEntropyLoss](https://pytorch.org/docs/stable/generated/torch.nn.CrossEntropyLoss.html) performs the soft-max operation internally and therefore it does not need to be part of the Transformer architecture."
   ]
  },
  {
   "cell_type": "code",
   "execution_count": 556,
   "id": "10bede6b-d8d9-4549-a437-731cba3e17fd",
   "metadata": {},
   "outputs": [],
   "source": [
    "class SimpleTransformer(nn.Module):\n",
    "    # Constructor\n",
    "    def __init__(\n",
    "        self,\n",
    "        num_tokens,\n",
    "        d_model,\n",
    "        nhead,\n",
    "        num_encoder_layers,\n",
    "        num_decoder_layers,\n",
    "        dim_feedforward,\n",
    "        dropout_p,\n",
    "        layer_norm_eps\n",
    "    ):\n",
    "        super().__init__()\n",
    "\n",
    "        self.d_model = d_model\n",
    "        \n",
    "        # Token embedding layer - this takes care of converting integer ids to vectors\n",
    "        self.embedding = nn.Embedding(num_tokens, d_model)\n",
    "\n",
    "        # Token \"unembedding\" to one-hot encoded token vector\n",
    "        self.unembedding = nn.Linear(d_model, num_tokens)\n",
    "\n",
    "        self.transformer = nn.Transformer(\n",
    "            d_model = d_model,\n",
    "            nhead = nhead,\n",
    "            num_encoder_layers = num_encoder_layers,\n",
    "            num_decoder_layers = num_decoder_layers,\n",
    "            dim_feedforward = dim_feedforward,\n",
    "            dropout = dropout_p,\n",
    "            layer_norm_eps = layer_norm_eps,\n",
    "            norm_first = True\n",
    "\n",
    "        )\n",
    "\n",
    "    def forward(\n",
    "        self,\n",
    "        src,\n",
    "        tgt,\n",
    "    ):\n",
    "        # Note: src & tgt default size is (seq_length, batch_num, feat_dim)\n",
    "\n",
    "        # Token embedding\n",
    "        src = self.embedding(src) * math.sqrt(self.d_model)\n",
    "        tgt = self.embedding(tgt) * math.sqrt(self.d_model)        \n",
    "\n",
    "        # Transformer output\n",
    "        out = self.transformer(src, tgt)\n",
    "        out = self.unembedding(out)\n",
    "        \n",
    "        return out"
   ]
  },
  {
   "cell_type": "code",
   "execution_count": 557,
   "id": "6fde67d1-63e4-4aab-bf84-a423167c0017",
   "metadata": {},
   "outputs": [
    {
     "name": "stdout",
     "output_type": "stream",
     "text": [
      "The model has 1332 parameters (1332 trainable)\n"
     ]
    }
   ],
   "source": [
    "model = SimpleTransformer(num_tokens = 4, d_model = 8, nhead = 1, num_encoder_layers = 1, num_decoder_layers = 1, dim_feedforward = 8, dropout_p = 0.1, layer_norm_eps = 1e-05)\n",
    "\n",
    "#print(model)\n",
    "print(f'The model has {sum(p.numel() for p in model.parameters())} parameters ({sum(p.numel() for p in model.parameters() if p.requires_grad)} trainable)')"
   ]
  },
  {
   "cell_type": "code",
   "execution_count": 558,
   "id": "b8a9f198-fc4a-4f6d-9a9a-50aeb88b0b7d",
   "metadata": {},
   "outputs": [
    {
     "name": "stdout",
     "output_type": "stream",
     "text": [
      "   Epoch 0 training loss 1.340372920036316 (lr=0.01)\n",
      "   Epoch 10 training loss 0.8127036094665527 (lr=0.01)\n",
      "   Epoch 20 training loss 0.6399750709533691 (lr=0.01)\n",
      "   Epoch 30 training loss 0.5244415402412415 (lr=0.01)\n",
      "   Epoch 40 training loss 0.48644545674324036 (lr=0.01)\n",
      "   Epoch 50 training loss 0.4820917844772339 (lr=0.01)\n",
      "   Epoch 60 training loss 0.47530338168144226 (lr=0.01)\n",
      "   Epoch 70 training loss 0.46358826756477356 (lr=0.01)\n",
      "   Epoch 80 training loss 0.46134352684020996 (lr=0.01)\n",
      "   Epoch 90 training loss 0.4614886939525604 (lr=0.01)\n",
      "   Epoch 100 training loss 0.4553680121898651 (lr=0.001)\n",
      "   Epoch 110 training loss 0.4542762339115143 (lr=0.001)\n",
      "   Epoch 120 training loss 0.45668914914131165 (lr=0.001)\n",
      "   Epoch 130 training loss 0.45848241448402405 (lr=0.001)\n",
      "   Epoch 140 training loss 0.4633973240852356 (lr=0.001)\n",
      "   Epoch 150 training loss 0.46021488308906555 (lr=0.001)\n",
      "   Epoch 160 training loss 0.4602748155593872 (lr=0.001)\n",
      "   Epoch 170 training loss 0.45115283131599426 (lr=0.001)\n",
      "   Epoch 180 training loss 0.4618590474128723 (lr=0.001)\n",
      "   Epoch 190 training loss 0.45415380597114563 (lr=0.001)\n",
      "   Epoch 200 training loss 0.4577707350254059 (lr=0.001)\n",
      "   Epoch 210 training loss 0.4566449522972107 (lr=0.001)\n",
      "   Epoch 220 training loss 0.45640408992767334 (lr=0.001)\n",
      "   Epoch 230 training loss 0.4548245966434479 (lr=0.001)\n",
      "   Epoch 240 training loss 0.45898619294166565 (lr=0.001)\n",
      "   Epoch 250 training loss 0.45930859446525574 (lr=0.001)\n",
      "   Epoch 260 training loss 0.4544047713279724 (lr=0.001)\n",
      "   Epoch 270 training loss 0.4564797878265381 (lr=0.001)\n",
      "   Epoch 280 training loss 0.4545906186103821 (lr=0.001)\n",
      "   Epoch 290 training loss 0.4556931257247925 (lr=0.001)\n",
      "   Epoch 300 training loss 0.4558729827404022 (lr=0.001)\n",
      "   Epoch 310 training loss 0.459673672914505 (lr=0.001)\n",
      "   Epoch 320 training loss 0.4585474729537964 (lr=0.001)\n",
      "   Epoch 330 training loss 0.4576200544834137 (lr=0.001)\n",
      "   Epoch 340 training loss 0.4561530649662018 (lr=0.001)\n",
      "   Epoch 350 training loss 0.45594871044158936 (lr=0.001)\n",
      "   Epoch 360 training loss 0.45573192834854126 (lr=0.001)\n",
      "   Epoch 370 training loss 0.45620906352996826 (lr=0.001)\n",
      "   Epoch 380 training loss 0.460002601146698 (lr=0.001)\n",
      "   Epoch 390 training loss 0.4529871642589569 (lr=0.001)\n",
      "   Epoch 400 training loss 0.45942258834838867 (lr=0.001)\n",
      "   Epoch 410 training loss 0.4578333795070648 (lr=0.001)\n",
      "   Epoch 420 training loss 0.45481449365615845 (lr=0.001)\n",
      "   Epoch 430 training loss 0.45315608382225037 (lr=0.001)\n",
      "   Epoch 440 training loss 0.4523077607154846 (lr=0.001)\n",
      "   Epoch 450 training loss 0.4566851556301117 (lr=0.001)\n",
      "   Epoch 460 training loss 0.46392324566841125 (lr=0.001)\n",
      "   Epoch 470 training loss 0.45397257804870605 (lr=0.001)\n",
      "   Epoch 480 training loss 0.45416587591171265 (lr=0.001)\n",
      "   Epoch 490 training loss 0.4570156931877136 (lr=0.001)\n",
      "   Epoch 500 training loss 0.4515078067779541 (lr=0.001)\n",
      "   Epoch 510 training loss 0.4596318006515503 (lr=0.001)\n",
      "   Epoch 520 training loss 0.4546595513820648 (lr=0.001)\n",
      "   Epoch 530 training loss 0.45181477069854736 (lr=0.001)\n",
      "   Epoch 540 training loss 0.4572521448135376 (lr=0.001)\n",
      "   Epoch 550 training loss 0.4531552493572235 (lr=0.001)\n",
      "   Epoch 560 training loss 0.4567238390445709 (lr=0.001)\n",
      "   Epoch 570 training loss 0.451526939868927 (lr=0.001)\n",
      "   Epoch 580 training loss 0.4552965462207794 (lr=0.001)\n",
      "   Epoch 590 training loss 0.4528811275959015 (lr=0.001)\n",
      "   Epoch 600 training loss 0.4526960849761963 (lr=0.001)\n",
      "   Epoch 610 training loss 0.4549010097980499 (lr=0.001)\n",
      "   Epoch 620 training loss 0.4498993158340454 (lr=0.001)\n",
      "   Epoch 630 training loss 0.4538191854953766 (lr=0.001)\n",
      "   Epoch 640 training loss 0.4539371728897095 (lr=0.001)\n",
      "   Epoch 650 training loss 0.4550970792770386 (lr=0.001)\n",
      "   Epoch 660 training loss 0.4511335790157318 (lr=0.001)\n",
      "   Epoch 670 training loss 0.4564407765865326 (lr=0.001)\n",
      "   Epoch 680 training loss 0.45302483439445496 (lr=0.001)\n",
      "   Epoch 690 training loss 0.44954726099967957 (lr=0.001)\n",
      "   Epoch 700 training loss 0.45354875922203064 (lr=0.001)\n",
      "   Epoch 710 training loss 0.45383748412132263 (lr=0.001)\n",
      "   Epoch 720 training loss 0.4487352669239044 (lr=0.001)\n",
      "   Epoch 730 training loss 0.4530163109302521 (lr=0.001)\n",
      "   Epoch 740 training loss 0.45509225130081177 (lr=0.001)\n",
      "   Epoch 750 training loss 0.45635128021240234 (lr=0.001)\n",
      "   Epoch 760 training loss 0.4501042664051056 (lr=0.001)\n",
      "   Epoch 770 training loss 0.45120149850845337 (lr=0.001)\n",
      "   Epoch 780 training loss 0.4537549614906311 (lr=0.001)\n",
      "   Epoch 790 training loss 0.45413029193878174 (lr=0.001)\n",
      "   Epoch 800 training loss 0.4538072645664215 (lr=0.001)\n",
      "   Epoch 810 training loss 0.45402371883392334 (lr=0.001)\n",
      "   Epoch 820 training loss 0.455992728471756 (lr=0.001)\n",
      "   Epoch 830 training loss 0.45099562406539917 (lr=0.001)\n",
      "   Epoch 840 training loss 0.4518128037452698 (lr=0.001)\n",
      "   Epoch 850 training loss 0.4541967213153839 (lr=0.001)\n",
      "   Epoch 860 training loss 0.45084255933761597 (lr=0.001)\n",
      "   Epoch 870 training loss 0.4504227042198181 (lr=0.001)\n",
      "   Epoch 880 training loss 0.4499547779560089 (lr=0.001)\n",
      "   Epoch 890 training loss 0.45349037647247314 (lr=0.001)\n",
      "   Epoch 900 training loss 0.45243850350379944 (lr=0.001)\n",
      "   Epoch 910 training loss 0.45261111855506897 (lr=0.001)\n",
      "   Epoch 920 training loss 0.45222970843315125 (lr=0.001)\n",
      "   Epoch 930 training loss 0.451589971780777 (lr=0.001)\n",
      "   Epoch 940 training loss 0.45277678966522217 (lr=0.001)\n",
      "   Epoch 950 training loss 0.4522283673286438 (lr=0.001)\n",
      "   Epoch 960 training loss 0.45012667775154114 (lr=0.001)\n",
      "   Epoch 970 training loss 0.44915124773979187 (lr=0.001)\n",
      "   Epoch 980 training loss 0.45600658655166626 (lr=0.001)\n",
      "   Epoch 990 training loss 0.453648179769516 (lr=0.001)\n"
     ]
    }
   ],
   "source": [
    "num_of_epochs = 1000\n",
    "loss_fn = torch.nn.CrossEntropyLoss()\n",
    "optimizer = torch.optim.Adam(model.parameters(), lr=0.01)\n",
    "scheduler = lr_scheduler.MultiStepLR(optimizer, milestones=[100], gamma=0.1)\n",
    "model.train()\n",
    "for n in range(num_of_epochs):\n",
    "    running_loss = 0.0\n",
    "    X_in = X_tr.long()\n",
    "    Y_in = Y_tr[:-1,:].long()\n",
    "    Y_out = Y_tr[1:,:].long()\n",
    "    Y_pred = model(X_in,Y_in)\n",
    "    # seq len x num samples => num samples x seq len\n",
    "    Y_out = Y_out.permute(1,0)\n",
    "    # seq len x num samples x token one hot => num samples x token one hot x seq len\n",
    "    Y_pred = Y_pred.permute(1, 2, 0)\n",
    "    loss = loss_fn(Y_pred,Y_out)\n",
    "\n",
    "    optimizer.zero_grad()\n",
    "    loss.backward()\n",
    "    optimizer.step()\n",
    "    running_loss += loss.item()\n",
    "    scheduler.step()\n",
    "    if n % 10 == 0:\n",
    "        print(f'   Epoch {n} training loss {running_loss} (lr={optimizer.param_groups[0][\"lr\"]})')"
   ]
  },
  {
   "cell_type": "code",
   "execution_count": 561,
   "id": "da8dbfc1-96a2-43bf-a4cc-48bd07eb4ecf",
   "metadata": {},
   "outputs": [
    {
     "name": "stdout",
     "output_type": "stream",
     "text": [
      "Example 0\n",
      "Input: [1, 1, 1]\n",
      "Continuation: [1]\n",
      "\n",
      "Example 1\n",
      "Input: [0, 0, 0]\n",
      "Continuation: [1, 1, 1, 1, 1, 1, 1, 1, 1, 1, 1, 1, 1, 1, 1]\n",
      "\n",
      "Example 2\n",
      "Input: [1]\n",
      "Continuation: [1]\n",
      "\n",
      "Example 3\n",
      "Input: [0]\n",
      "Continuation: [1, 1, 1, 1, 1, 1, 1, 1, 1, 1, 1, 1, 1, 1, 1]\n",
      "\n"
     ]
    }
   ],
   "source": [
    "# Here we test some examples to observe how the model predicts\n",
    "examples = [\n",
    "    torch.tensor([2, 1, 1, 1, 3], dtype=torch.long),\n",
    "    torch.tensor([2, 0, 0, 0, 3], dtype=torch.long),\n",
    "    torch.tensor([2, 1, 3], dtype=torch.long),\n",
    "    torch.tensor([2, 0, 3], dtype=torch.long)\n",
    "]\n",
    "\n",
    "for idx, example in enumerate(examples):\n",
    "    result = predict(model, example)\n",
    "    print(f\"Example {idx}\")\n",
    "    print(f\"Input: {example.view(-1).tolist()[1:-1]}\")\n",
    "    print(f\"Continuation: {result[1:-1]}\")\n",
    "    print()"
   ]
  },
  {
   "cell_type": "markdown",
   "id": "b99557f0-1efe-4932-a12f-18984f30ba71",
   "metadata": {},
   "source": [
    "**Findings**\n",
    "\n",
    "Interestingly, the ```SimpleTransformer``` architecture learns to map long sequences to short, e.g., 0,0,0,0 -> 1 and 1,1,1,1 -> 0 , but not short sequences to long, e.g., 0 -> 1,1,1,1 and 1 -> 0,0,0,0.\n",
    "\n",
    "The problem is that we train it incorrectly.\n",
    "\n",
    "SimpleTransformer is trained with full sequences\n",
    "\n",
    " * SOS,1,EOS -> SOS,0,0,0,0,EOS\n",
    " * SOS,0,EOS -> SOS,1,1,1,1,EOS\n",
    "\n",
    " BUT during inference it only knows the input and what is generated so far\n",
    "\n",
    " * (SOS,1,EOS),(SOS) -> 0\n",
    " * (SOS,1,EOS),(SOS,0) -> 0,0\n",
    " * (SOS,1,EOS),(SOS,0,0) -> 0,0,0\n",
    " * (SOS,1,EOS),(SOS,0,0,0) -> 0,0,0,0\n",
    " * (SOS,1,EOS),(SOS,0,0,0,0) -> 0,0,0,0,EOS\n",
    "\n",
    "This means that inference is different from training, and especially in the short-to-long case.\n",
    "\n",
    "This can be fixed by **masking** the future outputs during taining. After this little extension the transformer is already pretty powerful model."
   ]
  },
  {
   "cell_type": "markdown",
   "id": "6eb7761d-f0df-4d33-8dd4-86a10043aa2f",
   "metadata": {},
   "source": [
    "## SimpleTransformerPlus - Masking the future outputs during training\n",
    "\n",
    "```SimpleTransformer```was able to learn to produce a single output from multiple, but not multiple outputs from single. The main reason for that is that there is discrepancy between the training data and test data. During training it was aware of the full future, i.e., its task was to learn to produce a missing token in the following cases\n",
    "\n",
    " * SOS,1,EOS -> SOS,?,0,0,,EOS\n",
    " * SOS,1,EOS -> SOS,0,?,0,EOS\n",
    " * SOS,1,EOS -> SOS,0,0,?,EOS\n",
    " * SOS,1,EOS -> SOS,0,0,0,?\n",
    "\n",
    "while during testin the 'future' outputs are not known and the problem is actually\n",
    "\n",
    "\n",
    " * SOS,1,EOS -> SOS,?\n",
    " * SOS,1,EOS -> SOS,0,?\n",
    " * SOS,1,EOS -> SOS,0,0,?\n",
    " * SOS,1,EOS -> SOS,0,0,0,?\n",
    "\n",
    "which is different from the training. Note that in the many-to-one case training and test cases are almost identical and that is why it worked.\n",
    "\n",
    "**Solution:** During training we need to mask the future outputs. There is a pre-made Torch function for that"
   ]
  },
  {
   "cell_type": "code",
   "execution_count": 575,
   "id": "423ce223-4f6b-47a5-9421-ada9845ef096",
   "metadata": {},
   "outputs": [
    {
     "name": "stdout",
     "output_type": "stream",
     "text": [
      "tensor([[0., -inf, -inf, -inf, -inf, -inf, -inf, -inf, -inf, -inf],\n",
      "        [0., 0., -inf, -inf, -inf, -inf, -inf, -inf, -inf, -inf],\n",
      "        [0., 0., 0., -inf, -inf, -inf, -inf, -inf, -inf, -inf],\n",
      "        [0., 0., 0., 0., -inf, -inf, -inf, -inf, -inf, -inf],\n",
      "        [0., 0., 0., 0., 0., -inf, -inf, -inf, -inf, -inf],\n",
      "        [0., 0., 0., 0., 0., 0., -inf, -inf, -inf, -inf],\n",
      "        [0., 0., 0., 0., 0., 0., 0., -inf, -inf, -inf],\n",
      "        [0., 0., 0., 0., 0., 0., 0., 0., -inf, -inf],\n",
      "        [0., 0., 0., 0., 0., 0., 0., 0., 0., -inf],\n",
      "        [0., 0., 0., 0., 0., 0., 0., 0., 0., 0.]])\n"
     ]
    }
   ],
   "source": [
    "sequence_length = 10\n",
    "tgt_mask = nn.Transformer.generate_square_subsequent_mask(sequence_length)\n",
    "print(tgt_mask)"
   ]
  },
  {
   "cell_type": "markdown",
   "id": "20cd6a41-7c34-4d51-9154-263939ebdd88",
   "metadata": {},
   "source": [
    "Let's define ```SimpleTransformerPlus``` that supports masking."
   ]
  },
  {
   "cell_type": "code",
   "execution_count": 576,
   "id": "bd2b5720-17f3-4df4-9991-337049b735fe",
   "metadata": {},
   "outputs": [],
   "source": [
    "class SimpleTransformerPlus(nn.Module):\n",
    "    # Constructor\n",
    "    def __init__(\n",
    "        self,\n",
    "        num_tokens,\n",
    "        d_model,\n",
    "        nhead,\n",
    "        num_encoder_layers,\n",
    "        num_decoder_layers,\n",
    "        dim_feedforward,\n",
    "        dropout_p,\n",
    "        layer_norm_eps\n",
    "    ):\n",
    "        super().__init__()\n",
    "\n",
    "        self.d_model = d_model\n",
    "        \n",
    "        # Token embedding layer - this takes care of converting integer to vectors\n",
    "        self.embedding = nn.Embedding(num_tokens, d_model)\n",
    "\n",
    "        # Token \"unembedding\" to one-hot token vector\n",
    "        self.unembedding = nn.Linear(d_model, num_tokens)\n",
    "\n",
    "        self.transformer = nn.Transformer(\n",
    "            d_model = d_model,\n",
    "            nhead = nhead,\n",
    "            num_encoder_layers = num_encoder_layers,\n",
    "            num_decoder_layers = num_decoder_layers,\n",
    "            dim_feedforward = dim_feedforward,\n",
    "            dropout = dropout_p,\n",
    "            layer_norm_eps = layer_norm_eps,\n",
    "            norm_first = True\n",
    "        )\n",
    "\n",
    "    def forward(\n",
    "        self,\n",
    "        src,\n",
    "        tgt,\n",
    "        tgt_mask = None\n",
    "    ):\n",
    "        # Note: src & tgt default size is (seq_length, batch_num, feat_dim)\n",
    "\n",
    "        # Token embedding\n",
    "        src = self.embedding(src) * math.sqrt(self.d_model)\n",
    "        tgt = self.embedding(tgt) * math.sqrt(self.d_model)        \n",
    "\n",
    "        # Transformer output\n",
    "        out = self.transformer(src, tgt, tgt_mask=tgt_mask)\n",
    "        out = self.unembedding(out)\n",
    "        \n",
    "        return out"
   ]
  },
  {
   "cell_type": "code",
   "execution_count": 591,
   "id": "3a7985bf-f5a8-41cf-9054-fef82a8ac66b",
   "metadata": {},
   "outputs": [
    {
     "name": "stdout",
     "output_type": "stream",
     "text": [
      "The model has 1332 parameters (1332 trainable)\n"
     ]
    }
   ],
   "source": [
    "model = SimpleTransformerPlus(num_tokens = 4, d_model = 8, nhead = 1, num_encoder_layers = 1, num_decoder_layers = 1, dim_feedforward = 8, dropout_p = 0.1, layer_norm_eps = 1e-05)\n",
    "\n",
    "#print(model)\n",
    "print(f'The model has {sum(p.numel() for p in model.parameters())} parameters ({sum(p.numel() for p in model.parameters() if p.requires_grad)} trainable)')"
   ]
  },
  {
   "cell_type": "code",
   "execution_count": 592,
   "id": "9dc01f14-e1a4-453b-82fb-ee685412af9f",
   "metadata": {},
   "outputs": [
    {
     "name": "stdout",
     "output_type": "stream",
     "text": [
      "   Epoch 0 training loss 1.3542481660842896 (lr=0.01)\n",
      "   Epoch 100 training loss 0.4061003029346466 (lr=0.01)\n",
      "   Epoch 200 training loss 0.3027517795562744 (lr=0.01)\n",
      "   Epoch 300 training loss 0.23316869139671326 (lr=0.01)\n",
      "   Epoch 400 training loss 0.266167551279068 (lr=0.01)\n",
      "   Epoch 500 training loss 0.24914109706878662 (lr=0.001)\n",
      "   Epoch 600 training loss 0.20288799703121185 (lr=0.001)\n",
      "   Epoch 700 training loss 0.2525886595249176 (lr=0.001)\n",
      "   Epoch 800 training loss 0.19239892065525055 (lr=0.001)\n",
      "   Epoch 900 training loss 0.20035260915756226 (lr=0.001)\n",
      "   Epoch 1000 training loss 0.17571181058883667 (lr=0.001)\n",
      "   Epoch 1100 training loss 0.20941556990146637 (lr=0.001)\n",
      "   Epoch 1200 training loss 0.20730094611644745 (lr=0.001)\n",
      "   Epoch 1300 training loss 0.18186041712760925 (lr=0.001)\n",
      "   Epoch 1400 training loss 0.216546431183815 (lr=0.001)\n",
      "   Epoch 1500 training loss 0.1846693605184555 (lr=0.001)\n",
      "   Epoch 1600 training loss 0.19660606980323792 (lr=0.001)\n",
      "   Epoch 1700 training loss 0.2294130027294159 (lr=0.001)\n",
      "   Epoch 1800 training loss 0.19157074391841888 (lr=0.001)\n",
      "   Epoch 1900 training loss 0.1971454620361328 (lr=0.001)\n"
     ]
    }
   ],
   "source": [
    "num_of_epochs = 2000\n",
    "loss_fn = torch.nn.CrossEntropyLoss()\n",
    "optimizer = torch.optim.Adam(model.parameters(), lr=0.01)\n",
    "scheduler = lr_scheduler.MultiStepLR(optimizer, milestones=[500], gamma=0.1)\n",
    "model.train()\n",
    "for n in range(num_of_epochs):\n",
    "    running_loss = 0.0\n",
    "    X_in = X_tr.long()\n",
    "    Y_in = Y_tr[:-1,:].long()\n",
    "    Y_out = Y_tr[1:,:].long()\n",
    "\n",
    "    # Get mask to mask out the next words\n",
    "    sequence_length = Y_in.size(0)\n",
    "    tgt_mask = nn.Transformer.generate_square_subsequent_mask(sequence_length)\n",
    "    \n",
    "    Y_pred = model(X_in,Y_in, tgt_mask = tgt_mask)\n",
    "\n",
    "    # seq len x num samples => num samples x seq len\n",
    "    Y_out = Y_out.permute(1,0)\n",
    "    # seq len x num samples x token one hot => num samples x token one hot x seq len    \n",
    "    Y_pred = Y_pred.permute(1, 2, 0)\n",
    "    loss = loss_fn(Y_pred,Y_out)\n",
    "\n",
    "    optimizer.zero_grad()\n",
    "    loss.backward()\n",
    "    optimizer.step()\n",
    "    running_loss += loss.item()\n",
    "    scheduler.step()\n",
    "    if n % 100 == 0:\n",
    "        print(f'   Epoch {n} training loss {running_loss} (lr={optimizer.param_groups[0][\"lr\"]})')"
   ]
  },
  {
   "cell_type": "markdown",
   "id": "fcbc1c45-b4e9-4ea0-be1e-4a40bb47466b",
   "metadata": {},
   "source": [
    "**Inference** must be updated as well for nn.Transformer since it re-produces all outputs sequentially, but without masking it \"sees\" the future that was not anymore allowed in training. \n"
   ]
  },
  {
   "cell_type": "code",
   "execution_count": 3,
   "id": "498d0f25-7161-427e-aa50-94ce6863e1e5",
   "metadata": {},
   "outputs": [],
   "source": [
    "def predict(model, input_sequence, max_length=16, SOS_token=2, EOS_token=3, EOS_plus = 2):\n",
    "\n",
    "    model.eval()\n",
    "    \n",
    "    y_input = torch.tensor([SOS_token], dtype=torch.long)\n",
    "\n",
    "    sos_found = False\n",
    "    for _ in range(max_length):\n",
    "        #print(f'X={input_sequence} Y={y_input}')\n",
    "\n",
    "        sequence_length = len(y_input)\n",
    "        tgt_mask = nn.Transformer.generate_square_subsequent_mask(sequence_length)\n",
    "    \n",
    "        pred = model(input_sequence, y_input, tgt_mask = tgt_mask)\n",
    "\n",
    "        pred_tokens = torch.argmax(pred, dim=1)\n",
    "\n",
    "        y_input = torch.cat((torch.tensor([SOS_token], dtype=torch.long), pred_tokens), dim=0)\n",
    "\n",
    "        if pred_tokens[-1] == EOS_token:\n",
    "            break\n",
    "\n",
    "    return y_input.tolist()"
   ]
  },
  {
   "cell_type": "code",
   "execution_count": 593,
   "id": "a5c5d8f3-f3bb-4516-b682-0960a10802b2",
   "metadata": {},
   "outputs": [
    {
     "name": "stdout",
     "output_type": "stream",
     "text": [
      "Example 0\n",
      "Input: [1, 1, 1]\n",
      "Continuation: [0, 0, 0, 0]\n",
      "\n",
      "Example 1\n",
      "Input: [0, 0, 0]\n",
      "Continuation: [1, 1, 1, 1]\n",
      "\n",
      "Example 2\n",
      "Input: [1]\n",
      "Continuation: [0, 0, 0, 0]\n",
      "\n",
      "Example 3\n",
      "Input: [0]\n",
      "Continuation: [1, 1, 1, 1]\n",
      "\n"
     ]
    }
   ],
   "source": [
    "# Here we test some examples to observe how the model predicts\n",
    "examples = [\n",
    "    torch.tensor([2, 1, 1, 1, 3], dtype=torch.long),\n",
    "    torch.tensor([2, 0, 0, 0, 3], dtype=torch.long),\n",
    "    torch.tensor([2, 1, 3], dtype=torch.long),\n",
    "    torch.tensor([2, 0, 3], dtype=torch.long)\n",
    "]\n",
    "\n",
    "for idx, example in enumerate(examples):\n",
    "    result = predict(model, example)\n",
    "    print(f\"Example {idx}\")\n",
    "    print(f\"Input: {example.view(-1).tolist()[1:-1]}\")\n",
    "    print(f\"Continuation: {result[1:-1]}\")\n",
    "    print()"
   ]
  },
  {
   "cell_type": "markdown",
   "id": "cffde892-abee-410f-a663-e0228ffb5edf",
   "metadata": {},
   "source": [
    "Let's try something different - how about learning how to continue a sequence\n",
    "\n",
    "* sos,0,1,0,1,eos $\\rightarrow$ sos,0,1,0,1,eos\n",
    "* sos,1,0,1,0,eos $\\rightarrow$ sos,1,0,1,0,eos\n",
    "\n",
    "The above looks simple enough so that ```SimpleTransformerPlus```should be able to learn it now that it can process sequences correctly"
   ]
  },
  {
   "cell_type": "code",
   "execution_count": 4,
   "id": "c176c421-0018-42fc-a4c0-abf94037554b",
   "metadata": {},
   "outputs": [],
   "source": [
    "def generate_data4(n):\n",
    "    SOS_token = np.array([2])\n",
    "    EOS_token = np.array([3])\n",
    "\n",
    "    data = []\n",
    "\n",
    "    # 1 -> 0,0,0,0 \n",
    "    for i in range(n // 2):\n",
    "        X = np.concatenate((SOS_token, [0, 1, 0, 1], EOS_token))\n",
    "        y = np.concatenate((SOS_token, [0, 1, 0, 1], EOS_token))\n",
    "        data.append([X, y])\n",
    "\n",
    "    # 1 -> 1,1,1,1 \n",
    "    for i in range(n // 2):\n",
    "        X = np.concatenate((SOS_token, [1, 0, 1, 0], EOS_token))\n",
    "        y = np.concatenate((SOS_token, [1, 0, 1, 0], EOS_token))\n",
    "        data.append([X, y])\n",
    "\n",
    "    np.random.shuffle(data)\n",
    "\n",
    "    return data"
   ]
  },
  {
   "cell_type": "code",
   "execution_count": 5,
   "id": "b925b448-f20c-4c35-a38a-02a1a6cd7051",
   "metadata": {},
   "outputs": [
    {
     "name": "stdout",
     "output_type": "stream",
     "text": [
      "[2 1 0 1 0 3]\n",
      "[2 1 0 1 0 3]\n",
      "[2 1 0 1 0 3]\n",
      "[2 1 0 1 0 3]\n",
      "[2 0 1 0 1 3]\n",
      "[2 0 1 0 1 3]\n"
     ]
    }
   ],
   "source": [
    "tr_data = generate_data4(100)\n",
    "\n",
    "print(tr_data[0][0])\n",
    "print(tr_data[0][1])\n",
    "\n",
    "print(tr_data[1][0])\n",
    "print(tr_data[1][1])\n",
    "\n",
    "print(tr_data[2][0])\n",
    "print(tr_data[2][1])"
   ]
  },
  {
   "cell_type": "code",
   "execution_count": 6,
   "id": "ce60c673-0b1f-405a-8c8d-d6901c81f4ec",
   "metadata": {},
   "outputs": [
    {
     "name": "stdout",
     "output_type": "stream",
     "text": [
      "torch.Size([6, 100])\n",
      "tensor([2., 1., 0., 1., 0., 3.])\n",
      "tensor([2., 1., 0., 1., 0., 3.])\n",
      "tensor([2., 1., 0., 1., 0., 3.])\n",
      "tensor([2., 1., 0., 1., 0., 3.])\n",
      "tensor([2., 0., 1., 0., 1., 3.])\n",
      "tensor([2., 0., 1., 0., 1., 3.])\n"
     ]
    }
   ],
   "source": [
    "X_tr = torch.empty((len(tr_data[0][0]),len(tr_data)))\n",
    "Y_tr = torch.empty((len(tr_data[0][1]),len(tr_data)))\n",
    "for ids, s in enumerate(tr_data):\n",
    "    X_tr[:,ids] = torch.from_numpy(s[0])\n",
    "    Y_tr[:,ids] = torch.from_numpy(s[1])\n",
    "print(X_tr.shape)\n",
    "\n",
    "print(X_tr[:,0])\n",
    "print(Y_tr[:,0])\n",
    "\n",
    "print(X_tr[:,1])\n",
    "print(Y_tr[:,1])\n",
    "\n",
    "print(X_tr[:,2])\n",
    "print(Y_tr[:,2])"
   ]
  },
  {
   "cell_type": "code",
   "execution_count": 610,
   "id": "289add26-c228-46b2-8bdf-5151e5953ffe",
   "metadata": {},
   "outputs": [
    {
     "name": "stdout",
     "output_type": "stream",
     "text": [
      "The model has 1332 parameters (1332 trainable)\n"
     ]
    }
   ],
   "source": [
    "model = SimpleTransformerPlus(num_tokens = 4, d_model = 8, nhead = 1, num_encoder_layers = 1, num_decoder_layers = 1, dim_feedforward = 8, dropout_p = 0.1, layer_norm_eps = 1e-05)\n",
    "\n",
    "#print(model)\n",
    "print(f'The model has {sum(p.numel() for p in model.parameters())} parameters ({sum(p.numel() for p in model.parameters() if p.requires_grad)} trainable)')"
   ]
  },
  {
   "cell_type": "code",
   "execution_count": 611,
   "id": "e056bbb0-f801-4290-bf7b-07adcd961868",
   "metadata": {},
   "outputs": [
    {
     "name": "stdout",
     "output_type": "stream",
     "text": [
      "   Epoch 0 training loss 1.317150354385376 (lr=0.01)\n",
      "   Epoch 100 training loss 0.3775438368320465 (lr=0.01)\n",
      "   Epoch 200 training loss 0.40597498416900635 (lr=0.01)\n",
      "   Epoch 300 training loss 0.21399351954460144 (lr=0.01)\n",
      "   Epoch 400 training loss 0.5730879902839661 (lr=0.01)\n",
      "   Epoch 500 training loss 0.4395396411418915 (lr=0.001)\n",
      "   Epoch 600 training loss 0.27175191044807434 (lr=0.001)\n",
      "   Epoch 700 training loss 0.2718021273612976 (lr=0.001)\n",
      "   Epoch 800 training loss 0.24456676840782166 (lr=0.001)\n",
      "   Epoch 900 training loss 0.24476777017116547 (lr=0.001)\n",
      "   Epoch 1000 training loss 0.22980175912380219 (lr=0.001)\n",
      "   Epoch 1100 training loss 0.20475421845912933 (lr=0.001)\n",
      "   Epoch 1200 training loss 0.2261151522397995 (lr=0.001)\n",
      "   Epoch 1300 training loss 0.2475406527519226 (lr=0.001)\n",
      "   Epoch 1400 training loss 0.2095976322889328 (lr=0.001)\n",
      "   Epoch 1500 training loss 0.2383974939584732 (lr=0.001)\n",
      "   Epoch 1600 training loss 0.21962140500545502 (lr=0.001)\n",
      "   Epoch 1700 training loss 0.23983775079250336 (lr=0.001)\n",
      "   Epoch 1800 training loss 0.20759879052639008 (lr=0.001)\n",
      "   Epoch 1900 training loss 0.1926451325416565 (lr=0.001)\n"
     ]
    }
   ],
   "source": [
    "num_of_epochs = 2000\n",
    "loss_fn = torch.nn.CrossEntropyLoss()\n",
    "optimizer = torch.optim.Adam(model.parameters(), lr=0.01)\n",
    "scheduler = lr_scheduler.MultiStepLR(optimizer, milestones=[500], gamma=0.1)\n",
    "model.train()\n",
    "for n in range(num_of_epochs):\n",
    "    running_loss = 0.0\n",
    "    X_in = X_tr.long()\n",
    "    Y_in = Y_tr[:-1,:].long()\n",
    "    Y_out = Y_tr[1:,:].long()\n",
    "\n",
    "    # Get mask to mask out the next words\n",
    "    sequence_length = Y_in.size(0)\n",
    "    tgt_mask = nn.Transformer.generate_square_subsequent_mask(sequence_length)\n",
    "    \n",
    "    Y_pred = model(X_in,Y_in, tgt_mask = tgt_mask)\n",
    "\n",
    "    # seq len x num samples => num samples x seq len\n",
    "    Y_out = Y_out.permute(1,0)\n",
    "    # seq len x num samples x token one hot => num samples x token one hot x seq len    \n",
    "    Y_pred = Y_pred.permute(1, 2, 0)\n",
    "    loss = loss_fn(Y_pred,Y_out)\n",
    "\n",
    "    optimizer.zero_grad()\n",
    "    loss.backward()\n",
    "    optimizer.step()\n",
    "    running_loss += loss.item()\n",
    "    scheduler.step()\n",
    "    if n % 100 == 0:\n",
    "        print(f'   Epoch {n} training loss {running_loss} (lr={optimizer.param_groups[0][\"lr\"]})')"
   ]
  },
  {
   "cell_type": "code",
   "execution_count": 612,
   "id": "dbb19d7a-6696-45df-9275-185847574c2e",
   "metadata": {},
   "outputs": [
    {
     "name": "stdout",
     "output_type": "stream",
     "text": [
      "Example 0\n",
      "Input: [0, 1, 0, 1]\n",
      "Continuation: [1, 0]\n",
      "\n",
      "Example 1\n",
      "Input: [1, 0, 1, 0]\n",
      "Continuation: [1, 0]\n",
      "\n"
     ]
    }
   ],
   "source": [
    "# Here we test some examples to observe how the model predicts\n",
    "examples = [\n",
    "    torch.tensor([2, 0, 1, 0, 1, 3], dtype=torch.long),\n",
    "    torch.tensor([2, 1, 0, 1, 0, 3], dtype=torch.long),\n",
    "]\n",
    "\n",
    "for idx, example in enumerate(examples):\n",
    "    result = predict(model, example)\n",
    "    print(f\"Example {idx}\")\n",
    "    print(f\"Input: {example.view(-1).tolist()[1:-1]}\")\n",
    "    print(f\"Continuation: {result[1:-1]}\")\n",
    "    print()"
   ]
  },
  {
   "cell_type": "markdown",
   "id": "cd177d52-f21a-49fc-bf8e-fc14c06ba497",
   "metadata": {},
   "source": [
    "**Findings**\n",
    "\n",
    "Despite of its power ```SimpleTransformer``` to predict future from past tokes, is not able to learn simple sequence continuation such as 0,1,0,1 -> 0,1,0,1 and 1,0,1,0 -> 1,0,1,0.\n",
    "\n",
    "The reason is that the embeddings for the tokens 0 and 1 are the same, and summing them up is the same for 0,1,0,1 and 1,0,1,0 (and even for 1100, 1001, 0011) so the transformer does not know what is the correct.\n",
    "\n",
    "In order to fix this problem we need to make Transformer aware about the position of each token. That can be done by\n",
    "\n",
    " * Positional encoding\n"
   ]
  },
  {
   "cell_type": "markdown",
   "id": "2c3e8703-0c6d-4117-8626-c1ce7fc3da24",
   "metadata": {},
   "source": [
    "## ATransformer - Positional encoding is the last missing ingredient\n",
    "\n",
    "Plethora of code snippets can be found for positional encoding so let's pick one"
   ]
  },
  {
   "cell_type": "code",
   "execution_count": 8,
   "id": "228605ac-d123-4376-8791-df44cc011280",
   "metadata": {},
   "outputs": [],
   "source": [
    "class PositionalEncoding(nn.Module):\n",
    "    r\"\"\"Inject some information about the relative or absolute position of the tokens\n",
    "        in the sequence. The positional encodings have the same dimension as\n",
    "        the embeddings, so that the two can be summed. Here, we use sine and cosine\n",
    "        functions of different frequencies.\n",
    "    .. math::\n",
    "        \\text{PosEncoder}(pos, 2i) = sin(pos/10000^(2i/d_model))\n",
    "        \\text{PosEncoder}(pos, 2i+1) = cos(pos/10000^(2i/d_model))\n",
    "        \\text{where pos is the word position and i is the embed idx)\n",
    "    Args:\n",
    "        d_model: the embed dim (required).\n",
    "        dropout: the dropout value (default=0.1).\n",
    "        max_len: the max. length of the incoming sequence (default=5000).\n",
    "    Examples:\n",
    "        >>> pos_encoder = PositionalEncoding(d_model)\n",
    "    \"\"\"\n",
    "\n",
    "    def __init__(self, d_model, dropout=0.1, max_len=5000):\n",
    "        super(PositionalEncoding, self).__init__()\n",
    "        self.dropout = nn.Dropout(p=dropout)\n",
    "\n",
    "        pe = torch.zeros(max_len, d_model)\n",
    "        position = torch.arange(0, max_len, dtype=torch.float).unsqueeze(1)\n",
    "        div_term = torch.exp(torch.arange(0, d_model, 2).float() * (-math.log(10000.0) / d_model))\n",
    "        pe[:, 0::2] = torch.sin(position * div_term)\n",
    "        pe[:, 1::2] = torch.cos(position * div_term)\n",
    "        pe = pe.unsqueeze(0).transpose(0, 1)\n",
    "        self.register_buffer('pe', pe)\n",
    "\n",
    "    def forward(self, x):\n",
    "        r\"\"\"Inputs of forward function\n",
    "        Args:\n",
    "            x: the sequence fed to the positional encoder model (required).\n",
    "        Shape:\n",
    "            x: [sequence length, batch size, embed dim]\n",
    "            output: [sequence length, batch size, embed dim]\n",
    "        Examples:\n",
    "            >>> output = pos_encoder(x)\n",
    "        \"\"\"\n",
    "\n",
    "        x = x + self.pe[:x.size(0), :]\n",
    "        return self.dropout(x)"
   ]
  },
  {
   "cell_type": "markdown",
   "id": "60ebe7d4-e428-4d43-84c2-7fd29c12a8eb",
   "metadata": {},
   "source": [
    "The code shows that the encoding is additive so by inputting zero vectors we see how it works."
   ]
  },
  {
   "cell_type": "code",
   "execution_count": 12,
   "id": "39f78502-1d1b-463f-832d-46121e6477e2",
   "metadata": {},
   "outputs": [
    {
     "name": "stdout",
     "output_type": "stream",
     "text": [
      "torch.Size([2, 9])\n"
     ]
    },
    {
     "data": {
      "image/png": "[encoded data removed]",
      "text/plain": [
       "<Figure size 640x480 with 1 Axes>"
      ]
     },
     "metadata": {},
     "output_type": "display_data"
    }
   ],
   "source": [
    "foo_x = torch.zeros((4,1,8))\n",
    "foo_encoding = PositionalEncoding(8)\n",
    "foo_x_enc = foo_encoding(foo_x)\n",
    "\n",
    "plt.plot(np.squeeze(foo_x_enc).t())"
   ]
  },
  {
   "cell_type": "code",
   "execution_count": 74,
   "id": "265feeff-dddf-407b-a2f5-3c767499cc02",
   "metadata": {},
   "outputs": [],
   "source": [
    "class Transformer(nn.Module):\n",
    "    # Constructor\n",
    "    def __init__(\n",
    "        self,\n",
    "        num_tokens,\n",
    "        d_model,\n",
    "        nhead,\n",
    "        num_encoder_layers,\n",
    "        num_decoder_layers,\n",
    "        dim_feedforward,\n",
    "        dropout_p,\n",
    "        layer_norm_eps\n",
    "    ):\n",
    "        super().__init__()\n",
    "\n",
    "        self.d_model = d_model\n",
    "        \n",
    "        # Token embedding layer - this takes care of converting integer to vectors\n",
    "        self.embedding = nn.Embedding(num_tokens, d_model)\n",
    "\n",
    "        # Token \"unembedding\" to one-hot token vector\n",
    "        self.unembedding = nn.Linear(d_model, num_tokens)\n",
    "\n",
    "        # Positional encoding\n",
    "        self.positional_encoder = PositionalEncoding(d_model=d_model, dropout=dropout_p)\n",
    "\n",
    "        # nn.Transformer that does the magic\n",
    "        self.transformer = nn.Transformer(\n",
    "            d_model = d_model,\n",
    "            nhead = nhead,\n",
    "            num_encoder_layers = num_encoder_layers,\n",
    "            num_decoder_layers = num_decoder_layers,\n",
    "            dim_feedforward = dim_feedforward,\n",
    "            dropout = dropout_p,\n",
    "            layer_norm_eps = layer_norm_eps,\n",
    "            norm_first = True\n",
    "        )\n",
    "\n",
    "    def forward(\n",
    "        self,\n",
    "        src,\n",
    "        tgt,\n",
    "        tgt_mask = None\n",
    "    ):\n",
    "        # Note: src & tgt default size is (seq_length, batch_num, feat_dim)\n",
    "\n",
    "        # Token embedding\n",
    "        src = self.embedding(src) * math.sqrt(self.d_model)\n",
    "        tgt = self.embedding(tgt) * math.sqrt(self.d_model)\n",
    "\n",
    "        # Positional encoding - this is sensitive that data _must_ be seq len x batch num x feat dim\n",
    "        # Inference often misses the batch num\n",
    "        if src.dim() == 2: # seq len x feat dim\n",
    "            src = torch.unsqueeze(src,1) \n",
    "        src = self.positional_encoder(src)\n",
    "        if tgt.dim() == 2: # seq len x feat dim\n",
    "            tgt = torch.unsqueeze(tgt,1) \n",
    "        tgt = self.positional_encoder(tgt)\n",
    "\n",
    "        # Transformer output\n",
    "        out = self.transformer(src, tgt, tgt_mask=tgt_mask)\n",
    "        out = self.unembedding(out)\n",
    "        \n",
    "        return out"
   ]
  },
  {
   "cell_type": "code",
   "execution_count": 75,
   "id": "5ba01145-105a-4094-b491-bd713a90b208",
   "metadata": {},
   "outputs": [
    {
     "name": "stdout",
     "output_type": "stream",
     "text": [
      "The model has 1332 parameters (1332 trainable)\n"
     ]
    }
   ],
   "source": [
    "model = Transformer(num_tokens = 4, d_model = 8, nhead = 1, num_encoder_layers = 1, num_decoder_layers = 1, dim_feedforward = 8, dropout_p = 0.1, layer_norm_eps = 1e-05)\n",
    "\n",
    "#print(model)\n",
    "print(f'The model has {sum(p.numel() for p in model.parameters())} parameters ({sum(p.numel() for p in model.parameters() if p.requires_grad)} trainable)')"
   ]
  },
  {
   "cell_type": "code",
   "execution_count": 90,
   "id": "907a8f23-3fc3-4de5-9489-b7133deb4217",
   "metadata": {},
   "outputs": [
    {
     "name": "stdout",
     "output_type": "stream",
     "text": [
      "   Epoch 0 training loss 0.9784363508224487 (lr=0.01)\n",
      "   Epoch 100 training loss 0.10000507533550262 (lr=0.01)\n",
      "   Epoch 200 training loss 0.033111266791820526 (lr=0.01)\n",
      "   Epoch 300 training loss 0.05412794277071953 (lr=0.01)\n",
      "   Epoch 400 training loss 0.012893409468233585 (lr=0.01)\n",
      "   Epoch 500 training loss 0.008361301384866238 (lr=0.001)\n",
      "   Epoch 600 training loss 0.008510332554578781 (lr=0.001)\n",
      "   Epoch 700 training loss 0.0036712519358843565 (lr=0.001)\n",
      "   Epoch 800 training loss 0.010958276689052582 (lr=0.001)\n",
      "   Epoch 900 training loss 0.003900029929354787 (lr=0.001)\n",
      "   Epoch 1000 training loss 0.008949804119765759 (lr=0.001)\n",
      "   Epoch 1100 training loss 0.0043568965047597885 (lr=0.001)\n",
      "   Epoch 1200 training loss 0.003931717947125435 (lr=0.001)\n",
      "   Epoch 1300 training loss 0.011823654174804688 (lr=0.001)\n",
      "   Epoch 1400 training loss 0.012323993258178234 (lr=0.001)\n",
      "   Epoch 1500 training loss 0.02136898972094059 (lr=0.001)\n",
      "   Epoch 1600 training loss 0.0018198979087173939 (lr=0.001)\n",
      "   Epoch 1700 training loss 0.013360584154725075 (lr=0.001)\n",
      "   Epoch 1800 training loss 0.004663780797272921 (lr=0.001)\n",
      "   Epoch 1900 training loss 0.0011523370631039143 (lr=0.001)\n",
      "Final:   Epoch 1999 training loss 0.0022679311223328114 (lr=0.001)\n"
     ]
    }
   ],
   "source": [
    "num_of_epochs = 2000\n",
    "loss_fn = torch.nn.CrossEntropyLoss()\n",
    "optimizer = torch.optim.Adam(model.parameters(), lr=0.01)\n",
    "scheduler = lr_scheduler.MultiStepLR(optimizer, milestones=[500], gamma=0.1)\n",
    "model.train()\n",
    "for n in range(num_of_epochs):\n",
    "    running_loss = 0.0\n",
    "    X_in = X_tr.long()\n",
    "    Y_in = Y_tr[:-1,:].long()\n",
    "    Y_out = Y_tr[1:,:].long()\n",
    "\n",
    "    # Get mask to mask out the next words\n",
    "    sequence_length = Y_in.size(0)\n",
    "    tgt_mask = nn.Transformer.generate_square_subsequent_mask(sequence_length)\n",
    "    \n",
    "    Y_pred = model(X_in,Y_in, tgt_mask = tgt_mask)\n",
    "\n",
    "    # seq len x num samples => num samples x seq len\n",
    "    Y_out = Y_out.permute(1,0)\n",
    "    # seq len x num samples x token one hot => num samples x token one hot x seq len    \n",
    "    Y_pred = Y_pred.permute(1, 2, 0)\n",
    "    loss = loss_fn(Y_pred,Y_out)\n",
    "\n",
    "    optimizer.zero_grad()\n",
    "    loss.backward()\n",
    "    optimizer.step()\n",
    "    running_loss += loss.item()\n",
    "    scheduler.step()\n",
    "    if n % 100 == 0:\n",
    "        print(f'   Epoch {n} training loss {running_loss} (lr={optimizer.param_groups[0][\"lr\"]})')\n",
    "print(f'Final:   Epoch {n} training loss {running_loss} (lr={optimizer.param_groups[0][\"lr\"]})')"
   ]
  },
  {
   "cell_type": "code",
   "execution_count": 91,
   "id": "199ab909-818a-46ae-88ee-13352091ab62",
   "metadata": {},
   "outputs": [],
   "source": [
    "def predict(model, input_sequence, max_length=16, SOS_token=2, EOS_token=3, EOS_plus = 2):\n",
    "\n",
    "    model.eval()\n",
    "    \n",
    "    y_input = torch.tensor([SOS_token], dtype=torch.long)\n",
    "\n",
    "    sos_found = False\n",
    "    for _ in range(max_length):\n",
    "        #print(f'X={input_sequence} Y={y_input}')\n",
    "\n",
    "        sequence_length = len(y_input)\n",
    "        tgt_mask = nn.Transformer.generate_square_subsequent_mask(sequence_length)\n",
    "\n",
    "        pred = model(input_sequence, y_input, tgt_mask = tgt_mask)\n",
    "\n",
    "        # Since the positional encoding implementation the model returns seq len x batch num x feat num\n",
    "        if pred.dim() == 3:\n",
    "            pred = torch.squeeze(pred,1)\n",
    "        \n",
    "        pred_tokens = torch.argmax(pred, dim=1)\n",
    "\n",
    "        y_input = torch.cat((torch.tensor([SOS_token], dtype=torch.long), pred_tokens), dim=0)\n",
    "\n",
    "        if pred_tokens[-1] == EOS_token:\n",
    "            break\n",
    "\n",
    "    return y_input.tolist()"
   ]
  },
  {
   "cell_type": "code",
   "execution_count": 92,
   "id": "2248cc82-1b41-4384-b7c1-6200bbea3e41",
   "metadata": {},
   "outputs": [
    {
     "name": "stdout",
     "output_type": "stream",
     "text": [
      "Example 0\n",
      "Input: [0, 1, 0, 1]\n",
      "Continuation: [0, 1, 0, 1]\n",
      "\n",
      "Example 1\n",
      "Input: [1, 0, 1, 0]\n",
      "Continuation: [1, 0, 1, 0]\n",
      "\n"
     ]
    }
   ],
   "source": [
    "# Here we test some examples to observe how the model predicts\n",
    "examples = [\n",
    "    torch.tensor([2, 0, 1, 0, 1, 3], dtype=torch.long),\n",
    "    torch.tensor([2, 1, 0, 1, 0, 3], dtype=torch.long),\n",
    "]\n",
    "\n",
    "for idx, example in enumerate(examples):\n",
    "    result = predict(model, example)\n",
    "    print(f\"Example {idx}\")\n",
    "    print(f\"Input: {example.view(-1).tolist()[1:-1]}\")\n",
    "    print(f\"Continuation: {result[1:-1]}\")\n",
    "    print()"
   ]
  },
  {
   "cell_type": "markdown",
   "id": "dc6baec2-4879-4e4e-974b-d52795d9836f",
   "metadata": {},
   "source": [
    "**Findings** Works like a charm!\n"
   ]
  },
  {
   "cell_type": "markdown",
   "id": "1fbce9c7-e300-40bb-b2a4-2201a7bbe957",
   "metadata": {},
   "source": [
    "## Continuous data"
   ]
  },
  {
   "cell_type": "code",
   "execution_count": null,
   "id": "3868fbd8-ad69-4412-924a-695394b36536",
   "metadata": {},
   "outputs": [],
   "source": []
  }
 ],
 "metadata": {
  "kernelspec": {
   "display_name": "Python 3 (ipykernel)",
   "language": "python",
   "name": "python3"
  },
  "language_info": {
   "codemirror_mode": {
    "name": "ipython",
    "version": 3
   },
   "file_extension": ".py",
   "mimetype": "text/x-python",
   "name": "python",
   "nbconvert_exporter": "python",
   "pygments_lexer": "ipython3",
   "version": "3.12.2"
  }
 },
 "nbformat": 4,
 "nbformat_minor": 5
}
